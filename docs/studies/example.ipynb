{
 "cells": [
  {
   "cell_type": "markdown",
   "source": [
    "# Example"
   ],
   "metadata": {
    "collapsed": false
   }
  },
  {
   "cell_type": "code",
   "execution_count": null,
   "outputs": [],
   "source": [
    "from trieste.acquisition.function import PredictiveVariance, ExpectedImprovement\n",
    "\n",
    "\n",
    "import numpy as np\n",
    "from lnl_surrogate.surrogate import train\n",
    "from scipy.stats import norm\n",
    "from lnl_surrogate.surrogate.setup_optimizer import McZGrid\n",
    "from lnl_computer.mock_data import generate_mock_data\n",
    "from typing import Dict\n",
    "import matplotlib.pyplot as plt\n",
    "import os\n",
    "\n",
    "np.random.seed(0)\n",
    "\n",
    "MINX, MAXX = 0.005, 0.015\n",
    "MIDX = (MINX + MAXX) / 2\n",
    "NORM = norm(MIDX, 0.003)\n",
    "OUTDIR = 'outdir'\n",
    "os.makedirs(OUTDIR, exist_ok=True)\n",
    "\n",
    "def mock_lnl(*args, **kwargs):\n",
    "    sf_sample: Dict = kwargs.get('sf_sample')\n",
    "    sf_sample = np.array(list(sf_sample.values()))\n",
    "    return NORM.logpdf(sf_sample), 0\n",
    "\n",
    "def plot_res(model, data, search_space):\n",
    "    x = np.linspace(MINX, MAXX, 100).reshape(-1, 1)\n",
    "    true_y = NORM.logpdf(x) * -1.0\n",
    "    model_y, model_yunc = model.predict(x)\n",
    "    x_obs = data.query_points\n",
    "    y_obs = data.observations\n",
    "\n",
    "    tf_to_np = lambda x: x.numpy().flatten() if hasattr(x, 'numpy') else x\n",
    "    # make new fig\n",
    "    plt.figure()\n",
    "    plt.plot(x, true_y, label='True', color='black')\n",
    "    plt.plot(x, model_y, label='Model', color=\"tab:orange\")\n",
    "    plt.scatter(x_obs, y_obs, label='Observed', color='black')\n",
    "    yup, ydown = tf_to_np(model_y + model_yunc), tf_to_np(model_y - model_yunc)\n",
    "    plt.fill_between(x.flatten(), yup.flatten(), ydown.flatten(), alpha=0.2 , color=\"tab:orange\")\n",
    "    plt.legend(loc='upper right')\n",
    "    return plt.gcf()\n",
    "\n",
    "McZGrid.lnl = mock_lnl\n",
    "mock_data = generate_mock_data(OUTDIR)"
   ],
   "metadata": {
    "collapsed": false,
    "pycharm": {
     "is_executing": true
    }
   }
  },
  {
   "cell_type": "code",
   "outputs": [],
   "source": [
    "## Exploratory Acquisition Function \n",
    "\n",
    "res = train(\n",
    "    model_type='gp',\n",
    "    mcz_obs=mock_data.observations.mcz,\n",
    "    compas_h5_filename=mock_data.compas_filename,\n",
    "    acquisition_fns=[PredictiveVariance()],\n",
    "    params=['aSF'],\n",
    "    n_init=2,\n",
    "    n_rounds=10,\n",
    "    n_pts_per_round=1,\n",
    "    outdir=f\"{OUTDIR}/gp\",\n",
    "    truth=dict(\n",
    "        aSF=MIDX,\n",
    "        lnl=mock_lnl(sf_sample={'aSF': MIDX})[0]*-1.0\n",
    "    ),\n",
    "    model_plotter=plot_res,\n",
    "    noise_level=1e-3\n",
    ")"
   ],
   "metadata": {
    "collapsed": false
   }
  },
  {
   "cell_type": "code",
   "outputs": [],
   "source": [
    "## Explotative Acquisition Function\n",
    "\n",
    "res = train(\n",
    "    model_type='gp',\n",
    "    mcz_obs=mock_data.observations.mcz,\n",
    "    compas_h5_filename=mock_data.compas_filename,\n",
    "    acquisition_fns=[ExpectedImprovement()],\n",
    "    params=['aSF'],\n",
    "    n_init=2,\n",
    "    n_rounds=10,\n",
    "    n_pts_per_round=1,\n",
    "    outdir=f\"{OUTDIR}/gp\",\n",
    "    truth=dict(\n",
    "        aSF=MIDX,\n",
    "        lnl=mock_lnl(sf_sample={'aSF': MIDX})[0]*-1.0\n",
    "    ),\n",
    "    model_plotter=plot_res,\n",
    "    noise_level=1e-3\n",
    ")"
   ],
   "metadata": {
    "collapsed": false
   }
  },
  {
   "cell_type": "markdown",
   "source": [
    "| Exploratory Acquisition | Exploitative Acquisition |\n",
    "|-------------------------|--------------------------|\n",
    "| ![Exploratory][explore_gif] | ![Exploitative][exploit_gif] |\n",
    "\n",
    "![Regret][regret]\n",
    "\n",
    "[regret]: regret.png\n",
    "[exploit_gif]: train_exploit.gif\n",
    "[explore_gif]: train_explore.gif\n"
   ],
   "metadata": {
    "collapsed": false
   }
  }
 ],
 "metadata": {
  "kernelspec": {
   "display_name": "Python 3 (ipykernel)",
   "language": "python",
   "name": "python3"
  },
  "language_info": {
   "codemirror_mode": {
    "name": "ipython",
    "version": 3
   },
   "file_extension": ".py",
   "mimetype": "text/x-python",
   "name": "python",
   "nbconvert_exporter": "python",
   "pygments_lexer": "ipython3",
   "version": "3.9.17"
  },
  "toc": {
   "base_numbering": 1,
   "nav_menu": {},
   "number_sections": true,
   "sideBar": true,
   "skip_h1_title": false,
   "title_cell": "Table of Contents",
   "title_sidebar": "Contents",
   "toc_cell": false,
   "toc_position": {},
   "toc_section_display": true,
   "toc_window_display": true
  },
  "varInspector": {
   "cols": {
    "lenName": 16,
    "lenType": 16,
    "lenVar": 40
   },
   "kernels_config": {
    "python": {
     "delete_cmd_postfix": "",
     "delete_cmd_prefix": "del ",
     "library": "var_list.py",
     "varRefreshCmd": "print(var_dic_list())"
    },
    "r": {
     "delete_cmd_postfix": ") ",
     "delete_cmd_prefix": "rm(",
     "library": "var_list.r",
     "varRefreshCmd": "cat(var_dic_list()) "
    }
   },
   "types_to_exclude": [
    "module",
    "function",
    "builtin_function_or_method",
    "instance",
    "_Feature"
   ],
   "window_display": false
  }
 },
 "nbformat": 4,
 "nbformat_minor": 1
}
